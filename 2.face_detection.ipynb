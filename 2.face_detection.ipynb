{
 "cells": [
  {
   "cell_type": "code",
   "execution_count": 1,
   "metadata": {},
   "outputs": [],
   "source": [
    "import cv2\n",
    "import numpy \n",
    "import mediapipe as mp\n",
    "import time"
   ]
  },
  {
   "cell_type": "code",
   "execution_count": 21,
   "metadata": {},
   "outputs": [
    {
     "name": "stderr",
     "output_type": "stream",
     "text": [
      "I0000 00:00:1741113191.923542  810762 gl_context_egl.cc:85] Successfully initialized EGL. Major : 1 Minor: 5\n",
      "I0000 00:00:1741113191.926137  812934 gl_context.cc:369] GL version: 3.2 (OpenGL ES 3.2 Mesa 23.0.4-0ubuntu1~23.04.1), renderer: AMD Radeon Vega 3 Graphics (raven2, LLVM 15.0.7, DRM 3.49, 6.2.0-32-generic)\n",
      "W0000 00:00:1741113191.932506  812931 inference_feedback_manager.cc:114] Feedback manager requires a model with a single signature inference. Disabling support for feedback tensors.\n"
     ]
    }
   ],
   "source": [
    "cap = cv2.VideoCapture(0)\n",
    "\n",
    "mp_face_detection = mp.solutions.face_detection\n",
    "face_detection = mp_face_detection.FaceDetection(min_detection_confidence=0.75)\n",
    "mp_draw_detection = mp.solutions.drawing_utils\n",
    "while True:\n",
    "    success,frame = cap.read()\n",
    "\n",
    "    if not success:\n",
    "        break\n",
    "\n",
    "    RGB_frame = cv2.cvtColor(frame,cv2.COLOR_BGR2RGB)\n",
    "\n",
    "    result = face_detection.process(RGB_frame)\n",
    "    \n",
    "    if result.detections:\n",
    "        for face in result.detections:\n",
    "            mp_draw_detection.draw_detection(frame,face)\n",
    "            cv2.putText(frame,f'{int(face.score[0]*100)}',(100,100),cv2.FONT_HERSHEY_SIMPLEX,1,(255,0,0),3)\n",
    "    cv2.imshow('face_detection',frame)\n",
    "    if cv2.waitKey(1) & 0xFF == ord('q'):\n",
    "        break\n",
    "cap.release()\n",
    "cv2.destroyAllWindows()"
   ]
  },
  {
   "cell_type": "code",
   "execution_count": 7,
   "metadata": {},
   "outputs": [
    {
     "name": "stderr",
     "output_type": "stream",
     "text": [
      "I0000 00:00:1741104996.653541  810762 gl_context_egl.cc:85] Successfully initialized EGL. Major : 1 Minor: 5\n",
      "I0000 00:00:1741104996.656030  811095 gl_context.cc:369] GL version: 3.2 (OpenGL ES 3.2 Mesa 23.0.4-0ubuntu1~23.04.1), renderer: AMD Radeon Vega 3 Graphics (raven2, LLVM 15.0.7, DRM 3.49, 6.2.0-32-generic)\n",
      "W0000 00:00:1741104996.663788  811092 inference_feedback_manager.cc:114] Feedback manager requires a model with a single signature inference. Disabling support for feedback tensors.\n"
     ]
    }
   ],
   "source": [
    "import cv2\n",
    "import mediapipe as mp\n",
    "\n",
    "# Initialize webcam\n",
    "cap = cv2.VideoCapture(0)\n",
    "\n",
    "# Initialize MediaPipe Face Detection\n",
    "mp_face_detection = mp.solutions.face_detection\n",
    "mp_draw = mp.solutions.drawing_utils  # MediaPipe drawing utilities\n",
    "face_detection = mp_face_detection.FaceDetection(min_detection_confidence=0.5)\n",
    "\n",
    "while True:\n",
    "    success, frame = cap.read()\n",
    "    if not success:\n",
    "        break\n",
    "\n",
    "    # Convert BGR to RGB\n",
    "    RGB_frame = cv2.cvtColor(frame, cv2.COLOR_BGR2RGB)\n",
    "\n",
    "    # Process the frame for face detection\n",
    "    results = face_detection.process(RGB_frame)\n",
    "\n",
    "    # If faces are detected, draw landmarks & bounding boxes\n",
    "    if results.detections:\n",
    "        for face in results.detections:\n",
    "            mp_draw.draw_detection(frame, face)  # Automatically draws bounding boxes\n",
    "\n",
    "    # Show output\n",
    "    cv2.imshow('Face Detection', frame)\n",
    "\n",
    "    if cv2.waitKey(1) & 0xFF == ord('q'):\n",
    "        break\n",
    "\n",
    "# Cleanup\n",
    "cap.release()\n",
    "cv2.destroyAllWindows()\n"
   ]
  }
 ],
 "metadata": {
  "kernelspec": {
   "display_name": "myenv_newer",
   "language": "python",
   "name": "python3"
  },
  "language_info": {
   "codemirror_mode": {
    "name": "ipython",
    "version": 3
   },
   "file_extension": ".py",
   "mimetype": "text/x-python",
   "name": "python",
   "nbconvert_exporter": "python",
   "pygments_lexer": "ipython3",
   "version": "3.11.6"
  }
 },
 "nbformat": 4,
 "nbformat_minor": 2
}
