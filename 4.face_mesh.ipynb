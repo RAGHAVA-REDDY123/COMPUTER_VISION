{
 "cells": [
  {
   "cell_type": "code",
   "execution_count": 1,
   "metadata": {},
   "outputs": [],
   "source": [
    "import cv2\n",
    "import numpy \n",
    "import mediapipe as mp\n",
    "import time"
   ]
  },
  {
   "cell_type": "code",
   "execution_count": null,
   "metadata": {},
   "outputs": [
    {
     "name": "stderr",
     "output_type": "stream",
     "text": [
      "I0000 00:00:1741153521.091767    4116 gl_context_egl.cc:85] Successfully initialized EGL. Major : 1 Minor: 5\n",
      "I0000 00:00:1741153521.095156    5952 gl_context.cc:369] GL version: 3.2 (OpenGL ES 3.2 Mesa 23.0.4-0ubuntu1~23.04.1), renderer: AMD Radeon Vega 3 Graphics (raven2, LLVM 15.0.7, DRM 3.49, 6.2.0-32-generic)\n",
      "W0000 00:00:1741153521.115180    5950 inference_feedback_manager.cc:114] Feedback manager requires a model with a single signature inference. Disabling support for feedback tensors.\n",
      "W0000 00:00:1741153521.150999    5948 inference_feedback_manager.cc:114] Feedback manager requires a model with a single signature inference. Disabling support for feedback tensors.\n"
     ]
    },
    {
     "name": "stdout",
     "output_type": "stream",
     "text": [
      "5.743318941528758e-10\n",
      "9.022356355094551\n",
      "8.222432636417992\n",
      "15.602416450912122\n",
      "14.972598632073451\n",
      "9.324156574009853\n",
      "15.12147497602515\n",
      "15.311422866175306\n",
      "15.968142172408411\n",
      "13.935212933491924\n",
      "13.139967794688003\n",
      "16.31491652533802\n",
      "9.634769025796523\n",
      "11.398556396208367\n",
      "10.305617800841294\n",
      "13.304438297764356\n",
      "16.15256404331685\n",
      "17.133034868141564\n",
      "9.866698659364804\n",
      "10.700246439887545\n",
      "18.49666607867349\n",
      "11.377808642059033\n",
      "13.821786354529157\n",
      "14.76675221890106\n",
      "9.03617655676393\n",
      "10.790955190165866\n",
      "14.850090106676392\n",
      "12.145152136395751\n",
      "13.871612549029983\n",
      "20.04781683913677\n",
      "20.2916483229399\n",
      "19.217711636090392\n",
      "11.993937695523618\n",
      "24.548478853785014\n",
      "22.55657018704355\n",
      "18.84961845097387\n",
      "13.021461812379115\n",
      "20.31946826342664\n",
      "19.59817769782492\n",
      "19.00920025742592\n",
      "13.144003208985158\n",
      "21.164540610366544\n",
      "25.126124722937757\n",
      "21.9744331279601\n",
      "15.358912576990399\n",
      "15.596672653510485\n",
      "16.503976170520858\n",
      "12.645291221596134\n",
      "19.026791627729743\n",
      "13.807453641065145\n",
      "14.332591810443512\n",
      "13.268830946972813\n",
      "21.605756996636256\n",
      "13.314405434575583\n",
      "15.927514933336372\n",
      "11.874581348009864\n",
      "12.500682510446284\n",
      "15.467148520328202\n",
      "7.95288531913522\n",
      "6.8973465065186215\n"
     ]
    }
   ],
   "source": [
    "cap = cv2.VideoCapture(0)\n",
    "\n",
    "mp_mesh = mp.solutions.face_mesh\n",
    "faceMesh = mp_mesh.FaceMesh(max_num_faces=2)\n",
    "mp_draw = mp.solutions.drawing_utils\n",
    "landmark_drawing_spec = mp_draw.DrawingSpec(color=(0,255,0),thickness=1,circle_radius=1)\n",
    "connections_drawing_spec = mp_draw.DrawingSpec(color=(0,255,0),thickness=1)\n",
    "pTime = 0\n",
    "while True:\n",
    "    success,frame = cap.read()\n",
    "\n",
    "    if not success:\n",
    "        break\n",
    "\n",
    "    RGB_frame = cv2.cvtColor(frame,cv2.COLOR_BGR2RGB)\n",
    "\n",
    "    result = faceMesh.process(RGB_frame)\n",
    "    if result.multi_face_landmarks:\n",
    "        for landmark in result.multi_face_landmarks:\n",
    "            mp_draw.draw_landmarks(frame,landmark,mp_mesh.FACEMESH_TESSELATION,landmark_drawing_spec,connections_drawing_spec)\n",
    "    cTime = time.time()\n",
    "    fps = 1/(cTime-pTime)\n",
    "    pTime = cTime\n",
    "    cv2.putText(frame,f'fps {int(fps)}',(50,50),cv2.FONT_HERSHEY_SIMPLEX,1,(255,0,0),3)\n",
    "    cv2.imshow('face meash',frame)\n",
    "    if cv2.waitKey(1) & 0xFF == ord('q'):\n",
    "        break   \n",
    "cap.release()\n",
    "cv2.destroyAllWindows()"
   ]
  }
 ],
 "metadata": {
  "kernelspec": {
   "display_name": "myenv_newer",
   "language": "python",
   "name": "python3"
  },
  "language_info": {
   "codemirror_mode": {
    "name": "ipython",
    "version": 3
   },
   "file_extension": ".py",
   "mimetype": "text/x-python",
   "name": "python",
   "nbconvert_exporter": "python",
   "pygments_lexer": "ipython3",
   "version": "3.11.6"
  }
 },
 "nbformat": 4,
 "nbformat_minor": 2
}
