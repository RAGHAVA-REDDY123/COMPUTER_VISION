{
 "cells": [
  {
   "cell_type": "code",
   "execution_count": 1,
   "metadata": {},
   "outputs": [],
   "source": [
    "import cv2\n",
    "import numpy as np\n",
    "import mediapipe as mp\n",
    "import time\n",
    "import os"
   ]
  },
  {
   "cell_type": "code",
   "execution_count": 47,
   "metadata": {},
   "outputs": [
    {
     "name": "stderr",
     "output_type": "stream",
     "text": [
      "I0000 00:00:1741264144.171858    4329 gl_context_egl.cc:85] Successfully initialized EGL. Major : 1 Minor: 5\n",
      "I0000 00:00:1741264144.260552    8538 gl_context.cc:369] GL version: 3.2 (OpenGL ES 3.2 Mesa 23.0.4-0ubuntu1~23.04.1), renderer: AMD Radeon Vega 3 Graphics (raven2, LLVM 15.0.7, DRM 3.49, 6.2.0-32-generic)\n",
      "W0000 00:00:1741264144.312468    8534 inference_feedback_manager.cc:114] Feedback manager requires a model with a single signature inference. Disabling support for feedback tensors.\n",
      "W0000 00:00:1741264144.405727    8536 inference_feedback_manager.cc:114] Feedback manager requires a model with a single signature inference. Disabling support for feedback tensors.\n"
     ]
    }
   ],
   "source": [
    "lst = []\n",
    "cap = cv2.VideoCapture(0)\n",
    "mp_hands = mp.solutions.hands\n",
    "Hands = mp_hands.Hands(max_num_hands=1)\n",
    "mp_draw = mp.solutions.drawing_utils\n",
    "finger_tips = [4,8,12,16,20]\n",
    "while True:\n",
    "\n",
    "    success,frame = cap.read()\n",
    "    if not success:\n",
    "        break\n",
    "\n",
    "    RGB_image = cv2.cvtColor(frame,cv2.COLOR_BGR2RGB)\n",
    "\n",
    "    result = Hands.process(RGB_image)\n",
    "    lst.clear()\n",
    "\n",
    "    if result.multi_hand_landmarks:\n",
    "        for handLMS in result.multi_hand_landmarks:\n",
    "\n",
    "            mp_draw.draw_landmarks(frame,handLMS,mp_hands.HAND_CONNECTIONS)\n",
    "            landmark = handLMS.landmark\n",
    "            h,w,c = frame.shape\n",
    "\n",
    "            ##for thumb\n",
    "            if int(landmark[4].x*w) > int(landmark[2].x*w):\n",
    "                lst.append(1)\n",
    "            else:\n",
    "                lst.append(0)\n",
    "\n",
    "            ##for remaining 4 fingers\n",
    "            for finger_tip in finger_tips[1:]:\n",
    "                fx,fy = int(landmark[finger_tip].x * w) , int(landmark[finger_tip].y * h)\n",
    "                kx,ky = int(landmark[finger_tip-3].x * w) , int(landmark[finger_tip-3].y * h)\n",
    "\n",
    "                if fy < ky:\n",
    "                    lst.append(1)\n",
    "                else:\n",
    "                    lst.append(0)\n",
    "    # print(lst)\n",
    "    if len(lst) != 0:\n",
    "        cv2.putText(frame,f'{lst.count(1)}',(200,200),1,cv2.FONT_HERSHEY_SCRIPT_COMPLEX,(255,255,255),5)\n",
    "    cv2.imshow('counter',frame)\n",
    "    if cv2.waitKey(1) & 0xFF == ord('q'):\n",
    "        break\n",
    "cap.release()\n",
    "cv2.destroyAllWindows()"
   ]
  }
 ],
 "metadata": {
  "kernelspec": {
   "display_name": "myenv_newer",
   "language": "python",
   "name": "python3"
  },
  "language_info": {
   "codemirror_mode": {
    "name": "ipython",
    "version": 3
   },
   "file_extension": ".py",
   "mimetype": "text/x-python",
   "name": "python",
   "nbconvert_exporter": "python",
   "pygments_lexer": "ipython3",
   "version": "3.11.6"
  }
 },
 "nbformat": 4,
 "nbformat_minor": 2
}
